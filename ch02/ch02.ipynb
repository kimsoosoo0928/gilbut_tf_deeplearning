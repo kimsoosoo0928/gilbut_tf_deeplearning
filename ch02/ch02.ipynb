{
 "cells": [
  {
   "cell_type": "code",
   "execution_count": 1,
   "id": "ca6a981b",
   "metadata": {},
   "outputs": [],
   "source": [
    "# 필요한 라이브러리 호출\n",
    "import pandas as pd\n",
    "import numpy as np\n",
    "import tensorflow as tf\n",
    "\n",
    "import matplotlib.pyplot as plt\n",
    "%matplotlib inline\n",
    "\n",
    "import seaborn as sns\n",
    "sns.set(style=\"darkgrid\")"
   ]
  },
  {
   "cell_type": "code",
   "execution_count": 2,
   "id": "8cbe879b",
   "metadata": {},
   "outputs": [],
   "source": [
    "# 데이터 호출\n",
    "cols = ['price', 'maint', 'doors', 'persons', 'lug_capacity', 'safety','output']\n",
    "cars = pd.read_csv('./car_evaluation.csv', names=cols, header=None)"
   ]
  },
  {
   "cell_type": "code",
   "execution_count": 3,
   "id": "8b82a35e",
   "metadata": {},
   "outputs": [
    {
     "data": {
      "text/plain": [
       "<AxesSubplot:ylabel='output'>"
      ]
     },
     "execution_count": 3,
     "metadata": {},
     "output_type": "execute_result"
    },
    {
     "data": {
      "image/png": "[encoded data removed]",
      "text/plain": [
       "<Figure size 576x432 with 1 Axes>"
      ]
     },
     "metadata": {},
     "output_type": "display_data"
    }
   ],
   "source": [
    "# 예제 데이터셋 분포 \n",
    "plot_size = plt.rcParams[\"figure.figsize\"]\n",
    "plot_size [ 0 ] = 8\n",
    "plot_size [ 1 ] = 6\n",
    "plt.rcParams[\"figure.figsize\"] = plot_size\n",
    "cars.output.value_counts().plot(kind=\"pie\", autopct='%0.05f%%', colors=['lightblue', 'lightgreen', 'orange', 'pink'], explode =(0.05, 0.05,0.05,0.05))"
   ]
  },
  {
   "cell_type": "code",
   "execution_count": 6,
   "id": "93454a23",
   "metadata": {},
   "outputs": [],
   "source": [
    "price = pd.get_dummies(cars.price, prefix='price')\n",
    "maint = pd.get_dummies(cars.maint, prefix='maint')\n",
    "doors = pd.get_dummies(cars.doors, prefix='doors')\n",
    "persons = pd.get_dummies(cars.persons, prefix='persons')\n",
    "lug_capacity = pd.get_dummies(cars.lug_capacity, prefix='lug_capacity')\n",
    "safety = pd.get_dummies(cars.safety, prefix='safety')\n",
    "labels = pd.get_dummies(cars.output, prefix='condition')\n",
    "\n",
    "X = pd.concat([price, maint, doors, persons, lug_capacity, safety], axis=1)\n",
    "y = labels.values"
   ]
  },
  {
   "cell_type": "code",
   "execution_count": 7,
   "id": "f00f7047",
   "metadata": {},
   "outputs": [],
   "source": [
    "from sklearn.model_selection import train_test_split\n",
    "X_train, X_test, y_train, y_test = train_test_split(X, y, test_size=0.20, random_state=42)"
   ]
  },
  {
   "cell_type": "code",
   "execution_count": 12,
   "id": "32663ae9",
   "metadata": {},
   "outputs": [
    {
     "name": "stdout",
     "output_type": "stream",
     "text": [
      "Model: \"model\"\n",
      "_________________________________________________________________\n",
      "Layer (type)                 Output Shape              Param #   \n",
      "=================================================================\n",
      "input_2 (InputLayer)         [(None, 21)]              0         \n",
      "_________________________________________________________________\n",
      "dense_3 (Dense)              (None, 15)                330       \n",
      "_________________________________________________________________\n",
      "dense_4 (Dense)              (None, 10)                160       \n",
      "_________________________________________________________________\n",
      "dense_5 (Dense)              (None, 4)                 44        \n",
      "=================================================================\n",
      "Total params: 534\n",
      "Trainable params: 534\n",
      "Non-trainable params: 0\n",
      "_________________________________________________________________\n"
     ]
    }
   ],
   "source": [
    "from tensorflow.keras.layers import Input, Dense, Activation, Dropout\n",
    "from tensorflow.keras.models import Model\n",
    "\n",
    "input_layer = Input(shape=(X.shape[1]),)\n",
    "dense_layer_1 = Dense(15, activation=\"relu\")(input_layer)\n",
    "dense_layer_2 = Dense(10, activation=\"relu\")(dense_layer_1)\n",
    "output = Dense(y.shape[1], activation=\"softmax\")(dense_layer_2)\n",
    "                       \n",
    "model = Model(inputs=input_layer, outputs=output)\n",
    "                       \n",
    "model.compile(loss='categorical_crossentropy', optimizer='adam', metrics=['acc'])\n",
    "\n",
    "model.summary()"
   ]
  },
  {
   "cell_type": "code",
   "execution_count": 13,
   "id": "d805f0b9",
   "metadata": {},
   "outputs": [
    {
     "name": "stdout",
     "output_type": "stream",
     "text": [
      "Epoch 1/50\n",
      "139/139 [==============================] - 1s 2ms/step - loss: 1.1475 - acc: 0.5195 - val_loss: 0.9311 - val_acc: 0.6498\n",
      "Epoch 2/50\n",
      "139/139 [==============================] - 0s 1ms/step - loss: 0.7110 - acc: 0.7321 - val_loss: 0.7273 - val_acc: 0.6606\n",
      "Epoch 3/50\n",
      "139/139 [==============================] - 0s 1ms/step - loss: 0.5248 - acc: 0.7864 - val_loss: 0.5786 - val_acc: 0.7762\n",
      "Epoch 4/50\n",
      "139/139 [==============================] - 0s 1ms/step - loss: 0.4126 - acc: 0.8507 - val_loss: 0.5012 - val_acc: 0.8051\n",
      "Epoch 5/50\n",
      "139/139 [==============================] - 0s 1ms/step - loss: 0.3549 - acc: 0.8796 - val_loss: 0.4575 - val_acc: 0.8159\n",
      "Epoch 6/50\n",
      "139/139 [==============================] - 0s 1ms/step - loss: 0.3220 - acc: 0.8796 - val_loss: 0.4175 - val_acc: 0.8484\n",
      "Epoch 7/50\n",
      "139/139 [==============================] - 0s 1ms/step - loss: 0.2962 - acc: 0.8860 - val_loss: 0.3875 - val_acc: 0.8448\n",
      "Epoch 8/50\n",
      "139/139 [==============================] - 0s 1ms/step - loss: 0.2682 - acc: 0.8977 - val_loss: 0.3582 - val_acc: 0.8412\n",
      "Epoch 9/50\n",
      "139/139 [==============================] - 0s 1ms/step - loss: 0.2384 - acc: 0.9041 - val_loss: 0.3216 - val_acc: 0.8448\n",
      "Epoch 10/50\n",
      "139/139 [==============================] - 0s 1ms/step - loss: 0.2055 - acc: 0.9176 - val_loss: 0.2877 - val_acc: 0.8773\n",
      "Epoch 11/50\n",
      "139/139 [==============================] - 0s 1ms/step - loss: 0.1861 - acc: 0.9258 - val_loss: 0.2499 - val_acc: 0.8989\n",
      "Epoch 12/50\n",
      "139/139 [==============================] - 0s 1ms/step - loss: 0.1674 - acc: 0.9403 - val_loss: 0.2311 - val_acc: 0.9170\n",
      "Epoch 13/50\n",
      "139/139 [==============================] - 0s 1ms/step - loss: 0.1549 - acc: 0.9448 - val_loss: 0.2387 - val_acc: 0.8809\n",
      "Epoch 14/50\n",
      "139/139 [==============================] - 0s 1ms/step - loss: 0.1451 - acc: 0.9502 - val_loss: 0.2202 - val_acc: 0.9061\n",
      "Epoch 15/50\n",
      "139/139 [==============================] - 0s 1ms/step - loss: 0.1381 - acc: 0.9575 - val_loss: 0.2127 - val_acc: 0.9061\n",
      "Epoch 16/50\n",
      "139/139 [==============================] - 0s 1ms/step - loss: 0.1286 - acc: 0.9602 - val_loss: 0.1953 - val_acc: 0.9242\n",
      "Epoch 17/50\n",
      "139/139 [==============================] - 0s 1ms/step - loss: 0.1218 - acc: 0.9602 - val_loss: 0.1879 - val_acc: 0.9350\n",
      "Epoch 18/50\n",
      "139/139 [==============================] - 0s 946us/step - loss: 0.1136 - acc: 0.9665 - val_loss: 0.1979 - val_acc: 0.9206\n",
      "Epoch 19/50\n",
      "139/139 [==============================] - 0s 1ms/step - loss: 0.1092 - acc: 0.9656 - val_loss: 0.1807 - val_acc: 0.9278\n",
      "Epoch 20/50\n",
      "139/139 [==============================] - 0s 1ms/step - loss: 0.1018 - acc: 0.9701 - val_loss: 0.1844 - val_acc: 0.9242\n",
      "Epoch 21/50\n",
      "139/139 [==============================] - 0s 1ms/step - loss: 0.0972 - acc: 0.9747 - val_loss: 0.1980 - val_acc: 0.9134\n",
      "Epoch 22/50\n",
      "139/139 [==============================] - 0s 1ms/step - loss: 0.0943 - acc: 0.9765 - val_loss: 0.1695 - val_acc: 0.9278\n",
      "Epoch 23/50\n",
      "139/139 [==============================] - 0s 1ms/step - loss: 0.0873 - acc: 0.9801 - val_loss: 0.1642 - val_acc: 0.9386\n",
      "Epoch 24/50\n",
      "139/139 [==============================] - 0s 1ms/step - loss: 0.0837 - acc: 0.9801 - val_loss: 0.1581 - val_acc: 0.9350\n",
      "Epoch 25/50\n",
      "139/139 [==============================] - 0s 1ms/step - loss: 0.0795 - acc: 0.9810 - val_loss: 0.1494 - val_acc: 0.9495\n",
      "Epoch 26/50\n",
      "139/139 [==============================] - 0s 1ms/step - loss: 0.0749 - acc: 0.9873 - val_loss: 0.1555 - val_acc: 0.9386\n",
      "Epoch 27/50\n",
      "139/139 [==============================] - 0s 1ms/step - loss: 0.0712 - acc: 0.9864 - val_loss: 0.1483 - val_acc: 0.9422\n",
      "Epoch 28/50\n",
      "139/139 [==============================] - 0s 1ms/step - loss: 0.0680 - acc: 0.9846 - val_loss: 0.1680 - val_acc: 0.9134\n",
      "Epoch 29/50\n",
      "139/139 [==============================] - 0s 1ms/step - loss: 0.0638 - acc: 0.9891 - val_loss: 0.1397 - val_acc: 0.9422\n",
      "Epoch 30/50\n",
      "139/139 [==============================] - 0s 1ms/step - loss: 0.0612 - acc: 0.9900 - val_loss: 0.1444 - val_acc: 0.9458\n",
      "Epoch 31/50\n",
      "139/139 [==============================] - 0s 1ms/step - loss: 0.0581 - acc: 0.9928 - val_loss: 0.1336 - val_acc: 0.9531\n",
      "Epoch 32/50\n",
      "139/139 [==============================] - 0s 1ms/step - loss: 0.0545 - acc: 0.9910 - val_loss: 0.1314 - val_acc: 0.9458\n",
      "Epoch 33/50\n",
      "139/139 [==============================] - 0s 1ms/step - loss: 0.0517 - acc: 0.9928 - val_loss: 0.1264 - val_acc: 0.9458\n",
      "Epoch 34/50\n",
      "139/139 [==============================] - 0s 1ms/step - loss: 0.0495 - acc: 0.9919 - val_loss: 0.1327 - val_acc: 0.9495\n",
      "Epoch 35/50\n",
      "139/139 [==============================] - 0s 1ms/step - loss: 0.0458 - acc: 0.9928 - val_loss: 0.1283 - val_acc: 0.9495\n",
      "Epoch 36/50\n",
      "139/139 [==============================] - 0s 1ms/step - loss: 0.0458 - acc: 0.9928 - val_loss: 0.1162 - val_acc: 0.9603\n",
      "Epoch 37/50\n",
      "139/139 [==============================] - 0s 1ms/step - loss: 0.0431 - acc: 0.9919 - val_loss: 0.1107 - val_acc: 0.9603\n",
      "Epoch 38/50\n",
      "139/139 [==============================] - 0s 1ms/step - loss: 0.0403 - acc: 0.9928 - val_loss: 0.1199 - val_acc: 0.9531\n",
      "Epoch 39/50\n",
      "139/139 [==============================] - 0s 1ms/step - loss: 0.0392 - acc: 0.9919 - val_loss: 0.1149 - val_acc: 0.9567\n",
      "Epoch 40/50\n",
      "139/139 [==============================] - 0s 1ms/step - loss: 0.0359 - acc: 0.9937 - val_loss: 0.1063 - val_acc: 0.9675\n",
      "Epoch 41/50\n",
      "139/139 [==============================] - 0s 1ms/step - loss: 0.0352 - acc: 0.9919 - val_loss: 0.1157 - val_acc: 0.9495\n",
      "Epoch 42/50\n",
      "139/139 [==============================] - 0s 1ms/step - loss: 0.0323 - acc: 0.9964 - val_loss: 0.1178 - val_acc: 0.9531\n",
      "Epoch 43/50\n",
      "139/139 [==============================] - 0s 1ms/step - loss: 0.0315 - acc: 0.9955 - val_loss: 0.1145 - val_acc: 0.9567\n",
      "Epoch 44/50\n",
      "139/139 [==============================] - 0s 1ms/step - loss: 0.0311 - acc: 0.9946 - val_loss: 0.1179 - val_acc: 0.9531\n",
      "Epoch 45/50\n",
      "139/139 [==============================] - 0s 1ms/step - loss: 0.0285 - acc: 0.9946 - val_loss: 0.1058 - val_acc: 0.9639\n",
      "Epoch 46/50\n",
      "139/139 [==============================] - 0s 1ms/step - loss: 0.0260 - acc: 0.9955 - val_loss: 0.0998 - val_acc: 0.9603\n",
      "Epoch 47/50\n",
      "139/139 [==============================] - 0s 1ms/step - loss: 0.0249 - acc: 0.9964 - val_loss: 0.1021 - val_acc: 0.9675\n",
      "Epoch 48/50\n",
      "139/139 [==============================] - 0s 1ms/step - loss: 0.0237 - acc: 0.9955 - val_loss: 0.1223 - val_acc: 0.9495\n",
      "Epoch 49/50\n",
      "139/139 [==============================] - 0s 1ms/step - loss: 0.0216 - acc: 0.9973 - val_loss: 0.1037 - val_acc: 0.9603\n",
      "Epoch 50/50\n",
      "139/139 [==============================] - 0s 1ms/step - loss: 0.0213 - acc: 0.9973 - val_loss: 0.0989 - val_acc: 0.9639\n"
     ]
    }
   ],
   "source": [
    "history = model.fit(X_train, y_train, batch_size=8, epochs=50, verbose=1, validation_split=0.2)"
   ]
  },
  {
   "cell_type": "code",
   "execution_count": 14,
   "id": "3ab8d3d6",
   "metadata": {},
   "outputs": [
    {
     "name": "stdout",
     "output_type": "stream",
     "text": [
      "11/11 [==============================] - 0s 1ms/step - loss: 0.0868 - acc: 0.9653\n",
      "Test Score: 0.08675294369459152\n",
      "Test Accuracy: 0.9653179049491882\n"
     ]
    }
   ],
   "source": [
    "score = model.evaluate(X_test, y_test, verbose=1)\n",
    "print(\"Test Score:\", score[0])\n",
    "print(\"Test Accuracy:\", score[1])"
   ]
  },
  {
   "cell_type": "code",
   "execution_count": null,
   "id": "46ee014d",
   "metadata": {},
   "outputs": [],
   "source": []
  }
 ],
 "metadata": {
  "kernelspec": {
   "display_name": " tf2_book",
   "language": "python",
   "name": "tf2_book"
  },
  "language_info": {
   "codemirror_mode": {
    "name": "ipython",
    "version": 3
   },
   "file_extension": ".py",
   "mimetype": "text/x-python",
   "name": "python",
   "nbconvert_exporter": "python",
   "pygments_lexer": "ipython3",
   "version": "3.9.7"
  }
 },
 "nbformat": 4,
 "nbformat_minor": 5
}
